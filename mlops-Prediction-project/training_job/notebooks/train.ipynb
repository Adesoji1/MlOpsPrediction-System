{
 "cells": [
  {
   "cell_type": "code",
   "execution_count": null,
   "metadata": {},
   "outputs": [
    {
     "ename": "",
     "evalue": "",
     "output_type": "error",
     "traceback": [
      "\u001b[1;31mFailed to start the Kernel. \n",
      "\u001b[1;31mAttributeError: module 'importlib' has no attribute 'get_suffixes'. \n",
      "\u001b[1;31mView Jupyter <a href='command:jupyter.viewOutput'>log</a> for further details."
     ]
    }
   ],
   "source": [
    "# ref: https://www.kaggle.com/code/granjithkumar/nlp-with-women-clothing-reviews/data\n",
    "\n",
    "import numpy as np\n",
    "import pandas as pd\n",
    "import os\n",
    "import re\n",
    "# nltk.download('stopwords')\n",
    "os.environ[\"NLTK_DATA\"] = \"./corpora\"\n",
    "from nltk.corpus import stopwords\n",
    "from nltk.stem.porter import PorterStemmer\n",
    "from sklearn.model_selection import train_test_split\n",
    "from sklearn.feature_extraction.text import CountVectorizer as CV\n",
    "from sklearn.naive_bayes import BernoulliNB\n",
    "from sklearn.metrics import accuracy_score\n",
    "import pickle\n",
    "import mlflow"
   ]
  },
  {
   "cell_type": "code",
   "execution_count": 2,
   "metadata": {},
   "outputs": [
    {
     "ename": "MlflowException",
     "evalue": "Detected out-of-date database schema (found version cc1f77228345, but expected bd07f7e963c5). Take a backup of your database, then run 'mlflow db upgrade <database_uri>' to migrate your database to the latest schema. NOTE: schema migration may result in database downtime - please consult your database's documentation for more detail.",
     "output_type": "error",
     "traceback": [
      "\u001b[1;31m---------------------------------------------------------------------------\u001b[0m",
      "\u001b[1;31mMlflowException\u001b[0m                           Traceback (most recent call last)",
      "\u001b[1;32mc:\\Users\\Isaac\\codes\\personal\\mlops-zoomcamp-final-project\\training_job\\train.ipynb Cell 2\u001b[0m in \u001b[0;36m<cell line: 2>\u001b[1;34m()\u001b[0m\n\u001b[0;32m      <a href='vscode-notebook-cell:/c%3A/Users/Isaac/codes/personal/mlops-zoomcamp-final-project/training_job/train.ipynb#W1sZmlsZQ%3D%3D?line=0'>1</a>\u001b[0m mlflow\u001b[39m.\u001b[39mset_tracking_uri(\u001b[39m\"\u001b[39m\u001b[39msqlite:///mlflow.db\u001b[39m\u001b[39m\"\u001b[39m)\n\u001b[1;32m----> <a href='vscode-notebook-cell:/c%3A/Users/Isaac/codes/personal/mlops-zoomcamp-final-project/training_job/train.ipynb#W1sZmlsZQ%3D%3D?line=1'>2</a>\u001b[0m mlflow\u001b[39m.\u001b[39;49mset_experiment(\u001b[39m\"\u001b[39;49m\u001b[39mcustomer-sentiment-analysis\u001b[39;49m\u001b[39m\"\u001b[39;49m)\n",
      "File \u001b[1;32mc:\\Users\\Isaac\\miniconda3\\envs\\nlp\\lib\\site-packages\\mlflow\\tracking\\fluent.py:109\u001b[0m, in \u001b[0;36mset_experiment\u001b[1;34m(experiment_name, experiment_id)\u001b[0m\n\u001b[0;32m    101\u001b[0m \u001b[39mif\u001b[39;00m (experiment_name \u001b[39mis\u001b[39;00m \u001b[39mnot\u001b[39;00m \u001b[39mNone\u001b[39;00m \u001b[39mand\u001b[39;00m experiment_id \u001b[39mis\u001b[39;00m \u001b[39mnot\u001b[39;00m \u001b[39mNone\u001b[39;00m) \u001b[39mor\u001b[39;00m (\n\u001b[0;32m    102\u001b[0m     experiment_name \u001b[39mis\u001b[39;00m \u001b[39mNone\u001b[39;00m \u001b[39mand\u001b[39;00m experiment_id \u001b[39mis\u001b[39;00m \u001b[39mNone\u001b[39;00m\n\u001b[0;32m    103\u001b[0m ):\n\u001b[0;32m    104\u001b[0m     \u001b[39mraise\u001b[39;00m MlflowException(\n\u001b[0;32m    105\u001b[0m         message\u001b[39m=\u001b[39m\u001b[39m\"\u001b[39m\u001b[39mMust specify exactly one of: `experiment_id` or `experiment_name`.\u001b[39m\u001b[39m\"\u001b[39m,\n\u001b[0;32m    106\u001b[0m         error_code\u001b[39m=\u001b[39mINVALID_PARAMETER_VALUE,\n\u001b[0;32m    107\u001b[0m     )\n\u001b[1;32m--> 109\u001b[0m client \u001b[39m=\u001b[39m MlflowClient()\n\u001b[0;32m    110\u001b[0m \u001b[39mif\u001b[39;00m experiment_id \u001b[39mis\u001b[39;00m \u001b[39mNone\u001b[39;00m:\n\u001b[0;32m    111\u001b[0m     experiment \u001b[39m=\u001b[39m client\u001b[39m.\u001b[39mget_experiment_by_name(experiment_name)\n",
      "File \u001b[1;32mc:\\Users\\Isaac\\miniconda3\\envs\\nlp\\lib\\site-packages\\mlflow\\tracking\\client.py:70\u001b[0m, in \u001b[0;36mMlflowClient.__init__\u001b[1;34m(self, tracking_uri, registry_uri)\u001b[0m\n\u001b[0;32m     68\u001b[0m final_tracking_uri \u001b[39m=\u001b[39m utils\u001b[39m.\u001b[39m_resolve_tracking_uri(tracking_uri)\n\u001b[0;32m     69\u001b[0m \u001b[39mself\u001b[39m\u001b[39m.\u001b[39m_registry_uri \u001b[39m=\u001b[39m registry_utils\u001b[39m.\u001b[39m_resolve_registry_uri(registry_uri, tracking_uri)\n\u001b[1;32m---> 70\u001b[0m \u001b[39mself\u001b[39m\u001b[39m.\u001b[39m_tracking_client \u001b[39m=\u001b[39m TrackingServiceClient(final_tracking_uri)\n",
      "File \u001b[1;32mc:\\Users\\Isaac\\miniconda3\\envs\\nlp\\lib\\site-packages\\mlflow\\tracking\\_tracking_service\\client.py:43\u001b[0m, in \u001b[0;36mTrackingServiceClient.__init__\u001b[1;34m(self, tracking_uri)\u001b[0m\n\u001b[0;32m     38\u001b[0m \u001b[39mself\u001b[39m\u001b[39m.\u001b[39mtracking_uri \u001b[39m=\u001b[39m tracking_uri\n\u001b[0;32m     39\u001b[0m \u001b[39m# NB: Fetch the tracking store (`self.store`) upon client initialization to ensure that\u001b[39;00m\n\u001b[0;32m     40\u001b[0m \u001b[39m# the tracking URI is valid and the store can be properly resolved. We define `store` as a\u001b[39;00m\n\u001b[0;32m     41\u001b[0m \u001b[39m# property method to ensure that the client is serializable, even if the store is not\u001b[39;00m\n\u001b[0;32m     42\u001b[0m \u001b[39m# self.store  # pylint: disable=pointless-statement\u001b[39;00m\n\u001b[1;32m---> 43\u001b[0m \u001b[39mself\u001b[39;49m\u001b[39m.\u001b[39;49mstore\n",
      "File \u001b[1;32mc:\\Users\\Isaac\\miniconda3\\envs\\nlp\\lib\\site-packages\\mlflow\\tracking\\_tracking_service\\client.py:47\u001b[0m, in \u001b[0;36mTrackingServiceClient.store\u001b[1;34m(self)\u001b[0m\n\u001b[0;32m     45\u001b[0m \u001b[39m@property\u001b[39m\n\u001b[0;32m     46\u001b[0m \u001b[39mdef\u001b[39;00m \u001b[39mstore\u001b[39m(\u001b[39mself\u001b[39m):\n\u001b[1;32m---> 47\u001b[0m     \u001b[39mreturn\u001b[39;00m utils\u001b[39m.\u001b[39;49m_get_store(\u001b[39mself\u001b[39;49m\u001b[39m.\u001b[39;49mtracking_uri)\n",
      "File \u001b[1;32mc:\\Users\\Isaac\\miniconda3\\envs\\nlp\\lib\\site-packages\\mlflow\\tracking\\_tracking_service\\utils.py:156\u001b[0m, in \u001b[0;36m_get_store\u001b[1;34m(store_uri, artifact_uri)\u001b[0m\n\u001b[0;32m    155\u001b[0m \u001b[39mdef\u001b[39;00m \u001b[39m_get_store\u001b[39m(store_uri\u001b[39m=\u001b[39m\u001b[39mNone\u001b[39;00m, artifact_uri\u001b[39m=\u001b[39m\u001b[39mNone\u001b[39;00m):\n\u001b[1;32m--> 156\u001b[0m     \u001b[39mreturn\u001b[39;00m _tracking_store_registry\u001b[39m.\u001b[39;49mget_store(store_uri, artifact_uri)\n",
      "File \u001b[1;32mc:\\Users\\Isaac\\miniconda3\\envs\\nlp\\lib\\site-packages\\mlflow\\tracking\\_tracking_service\\registry.py:39\u001b[0m, in \u001b[0;36mTrackingStoreRegistry.get_store\u001b[1;34m(self, store_uri, artifact_uri)\u001b[0m\n\u001b[0;32m     36\u001b[0m \u001b[39mfrom\u001b[39;00m \u001b[39mmlflow\u001b[39;00m\u001b[39m.\u001b[39;00m\u001b[39mtracking\u001b[39;00m\u001b[39m.\u001b[39;00m\u001b[39m_tracking_service\u001b[39;00m \u001b[39mimport\u001b[39;00m utils\n\u001b[0;32m     38\u001b[0m resolved_store_uri \u001b[39m=\u001b[39m utils\u001b[39m.\u001b[39m_resolve_tracking_uri(store_uri)\n\u001b[1;32m---> 39\u001b[0m \u001b[39mreturn\u001b[39;00m \u001b[39mself\u001b[39;49m\u001b[39m.\u001b[39;49m_get_store_with_resolved_uri(resolved_store_uri, artifact_uri)\n",
      "File \u001b[1;32mc:\\Users\\Isaac\\miniconda3\\envs\\nlp\\lib\\site-packages\\mlflow\\tracking\\_tracking_service\\registry.py:49\u001b[0m, in \u001b[0;36mTrackingStoreRegistry._get_store_with_resolved_uri\u001b[1;34m(self, resolved_store_uri, artifact_uri)\u001b[0m\n\u001b[0;32m     43\u001b[0m \u001b[39m\"\"\"\u001b[39;00m\n\u001b[0;32m     44\u001b[0m \u001b[39mRetrieve the store associated with a resolved (non-None) store URI and an artifact URI.\u001b[39;00m\n\u001b[0;32m     45\u001b[0m \u001b[39mCaching is done on resolved URIs because the meaning of an unresolved (None) URI may change\u001b[39;00m\n\u001b[0;32m     46\u001b[0m \u001b[39mdepending on external configuration, such as environment variables\u001b[39;00m\n\u001b[0;32m     47\u001b[0m \u001b[39m\"\"\"\u001b[39;00m\n\u001b[0;32m     48\u001b[0m builder \u001b[39m=\u001b[39m \u001b[39mself\u001b[39m\u001b[39m.\u001b[39mget_store_builder(resolved_store_uri)\n\u001b[1;32m---> 49\u001b[0m \u001b[39mreturn\u001b[39;00m builder(store_uri\u001b[39m=\u001b[39;49mresolved_store_uri, artifact_uri\u001b[39m=\u001b[39;49martifact_uri)\n",
      "File \u001b[1;32mc:\\Users\\Isaac\\miniconda3\\envs\\nlp\\lib\\site-packages\\mlflow\\tracking\\_tracking_service\\utils.py:118\u001b[0m, in \u001b[0;36m_get_sqlalchemy_store\u001b[1;34m(store_uri, artifact_uri)\u001b[0m\n\u001b[0;32m    116\u001b[0m \u001b[39mif\u001b[39;00m artifact_uri \u001b[39mis\u001b[39;00m \u001b[39mNone\u001b[39;00m:\n\u001b[0;32m    117\u001b[0m     artifact_uri \u001b[39m=\u001b[39m DEFAULT_LOCAL_FILE_AND_ARTIFACT_PATH\n\u001b[1;32m--> 118\u001b[0m \u001b[39mreturn\u001b[39;00m SqlAlchemyStore(store_uri, artifact_uri)\n",
      "File \u001b[1;32mc:\\Users\\Isaac\\miniconda3\\envs\\nlp\\lib\\site-packages\\mlflow\\store\\tracking\\sqlalchemy_store.py:143\u001b[0m, in \u001b[0;36mSqlAlchemyStore.__init__\u001b[1;34m(self, db_uri, default_artifact_root)\u001b[0m\n\u001b[0;32m    139\u001b[0m SessionMaker \u001b[39m=\u001b[39m sqlalchemy\u001b[39m.\u001b[39morm\u001b[39m.\u001b[39msessionmaker(bind\u001b[39m=\u001b[39m\u001b[39mself\u001b[39m\u001b[39m.\u001b[39mengine)\n\u001b[0;32m    140\u001b[0m \u001b[39mself\u001b[39m\u001b[39m.\u001b[39mManagedSessionMaker \u001b[39m=\u001b[39m mlflow\u001b[39m.\u001b[39mstore\u001b[39m.\u001b[39mdb\u001b[39m.\u001b[39mutils\u001b[39m.\u001b[39m_get_managed_session_maker(\n\u001b[0;32m    141\u001b[0m     SessionMaker, \u001b[39mself\u001b[39m\u001b[39m.\u001b[39mdb_type\n\u001b[0;32m    142\u001b[0m )\n\u001b[1;32m--> 143\u001b[0m mlflow\u001b[39m.\u001b[39;49mstore\u001b[39m.\u001b[39;49mdb\u001b[39m.\u001b[39;49mutils\u001b[39m.\u001b[39;49m_verify_schema(\u001b[39mself\u001b[39;49m\u001b[39m.\u001b[39;49mengine)\n\u001b[0;32m    145\u001b[0m \u001b[39mif\u001b[39;00m is_local_uri(default_artifact_root):\n\u001b[0;32m    146\u001b[0m     mkdir(local_file_uri_to_path(default_artifact_root))\n",
      "File \u001b[1;32mc:\\Users\\Isaac\\miniconda3\\envs\\nlp\\lib\\site-packages\\mlflow\\store\\db\\utils.py:53\u001b[0m, in \u001b[0;36m_verify_schema\u001b[1;34m(engine)\u001b[0m\n\u001b[0;32m     51\u001b[0m current_rev \u001b[39m=\u001b[39m _get_schema_version(engine)\n\u001b[0;32m     52\u001b[0m \u001b[39mif\u001b[39;00m current_rev \u001b[39m!=\u001b[39m head_revision:\n\u001b[1;32m---> 53\u001b[0m     \u001b[39mraise\u001b[39;00m MlflowException(\n\u001b[0;32m     54\u001b[0m         \u001b[39m\"\u001b[39m\u001b[39mDetected out-of-date database schema (found version \u001b[39m\u001b[39m%s\u001b[39;00m\u001b[39m, but expected \u001b[39m\u001b[39m%s\u001b[39;00m\u001b[39m). \u001b[39m\u001b[39m\"\u001b[39m\n\u001b[0;32m     55\u001b[0m         \u001b[39m\"\u001b[39m\u001b[39mTake a backup of your database, then run \u001b[39m\u001b[39m'\u001b[39m\u001b[39mmlflow db upgrade <database_uri>\u001b[39m\u001b[39m'\u001b[39m\u001b[39m \u001b[39m\u001b[39m\"\u001b[39m\n\u001b[0;32m     56\u001b[0m         \u001b[39m\"\u001b[39m\u001b[39mto migrate your database to the latest schema. NOTE: schema migration may \u001b[39m\u001b[39m\"\u001b[39m\n\u001b[0;32m     57\u001b[0m         \u001b[39m\"\u001b[39m\u001b[39mresult in database downtime - please consult your database\u001b[39m\u001b[39m'\u001b[39m\u001b[39ms documentation for \u001b[39m\u001b[39m\"\u001b[39m\n\u001b[0;32m     58\u001b[0m         \u001b[39m\"\u001b[39m\u001b[39mmore detail.\u001b[39m\u001b[39m\"\u001b[39m \u001b[39m%\u001b[39m (current_rev, head_revision)\n\u001b[0;32m     59\u001b[0m     )\n",
      "\u001b[1;31mMlflowException\u001b[0m: Detected out-of-date database schema (found version cc1f77228345, but expected bd07f7e963c5). Take a backup of your database, then run 'mlflow db upgrade <database_uri>' to migrate your database to the latest schema. NOTE: schema migration may result in database downtime - please consult your database's documentation for more detail."
     ]
    }
   ],
   "source": [
    "mlflow.set_tracking_uri(\"sqlite:///mlflow.db\")\n",
    "mlflow.set_experiment(\"customer-sentiment-analysis\")"
   ]
  },
  {
   "cell_type": "code",
   "execution_count": 4,
   "metadata": {},
   "outputs": [],
   "source": [
    "## data loading\n",
    "data = pd.read_csv('data/Womens Clothing E-Commerce Reviews.csv',index_col =[0])\n",
    "\n",
    "## preprocess text\n",
    "data = data[~data['Review Text'].isnull()]  #Dropping columns which don't have any review\n",
    "X = data[['Review Text']]\n",
    "X.index = np.arange(len(X))\n",
    "\n",
    "y = data['Recommended IND']"
   ]
  },
  {
   "cell_type": "code",
   "execution_count": 6,
   "metadata": {},
   "outputs": [],
   "source": [
    "corpus =[]\n",
    "for i in range(len(X)):\n",
    "    review = re.sub('[^a-zA-z]',' ',X['Review Text'][i])\n",
    "    review = review.lower()\n",
    "    review = review.split()\n",
    "    ps = PorterStemmer()\n",
    "    review =[ps.stem(i) for i in review if not i in set(stopwords.words('english'))]\n",
    "    review =' '.join(review)\n",
    "    corpus.append(review)\n"
   ]
  },
  {
   "cell_type": "code",
   "execution_count": 5,
   "metadata": {},
   "outputs": [],
   "source": [
    "with open('data/corpus_y.pickle', 'rb') as handle:\n",
    "    corpus, y = pickle.load(handle)"
   ]
  },
  {
   "cell_type": "code",
   "execution_count": 7,
   "metadata": {},
   "outputs": [],
   "source": [
    "cv  = CV(max_features = 3000,ngram_range=(1,1))\n",
    "X_cv = cv.fit_transform(corpus).toarray()\n",
    "# y = y.values\n",
    "\n",
    "X_train, X_test, y_train, y_test = train_test_split(X_cv, y, test_size = 0.20, random_state = 0)\n"
   ]
  },
  {
   "cell_type": "code",
   "execution_count": 8,
   "metadata": {},
   "outputs": [
    {
     "data": {
      "text/plain": [
       "((18112, 3000), (4529, 3000), (18112,), (4529,))"
      ]
     },
     "execution_count": 8,
     "metadata": {},
     "output_type": "execute_result"
    }
   ],
   "source": [
    "X_train.shape, X_test.shape, y_train.shape, y_test.shape"
   ]
  },
  {
   "cell_type": "code",
   "execution_count": 12,
   "metadata": {},
   "outputs": [
    {
     "data": {
      "text/plain": [
       "(18112,)"
      ]
     },
     "execution_count": 12,
     "metadata": {},
     "output_type": "execute_result"
    }
   ],
   "source": [
    "np.zeros((18112,)).shape"
   ]
  },
  {
   "cell_type": "code",
   "execution_count": null,
   "metadata": {},
   "outputs": [],
   "source": []
  },
  {
   "cell_type": "code",
   "execution_count": 23,
   "metadata": {},
   "outputs": [
    {
     "name": "stderr",
     "output_type": "stream",
     "text": [
      "2022/08/09 18:40:24 WARNING mlflow.utils.autologging_utils: Encountered unexpected error during sklearn autologging: The following failures occurred while performing one or more logging operations: [MlflowException('Failed to perform one or more operations on the run with ID df275ac8d95b41748c8a6536f46145b3. Failed operations: [MlflowException(\"Changing param values is not allowed. Params were already logged=\\'[{\\'key\\': \\'binarize\\', \\'old_value\\': None, \\'new_value\\': \\'0.0\\'}, {\\'key\\': \\'class_prior\\', \\'old_value\\': None, \\'new_value\\': \\'None\\'}, {\\'key\\': \\'fit_prior\\', \\'old_value\\': None, \\'new_value\\': \\'True\\'}]\\' for run ID=\\'df275ac8d95b41748c8a6536f46145b3\\'.\")]')]\n"
     ]
    },
    {
     "name": "stdout",
     "output_type": "stream",
     "text": [
      "accuracy on test data: 0.873923603444469\n"
     ]
    }
   ],
   "source": [
    "mlflow.sklearn.autolog()\n",
    "\n",
    "with mlflow.start_run():\n",
    "\n",
    "    mlflow.set_tag(\"developer\", \"Isaac\")\n",
    "    mlflow.set_tag(\"algorithm\", \"BernoulliNB\")\n",
    "    mlflow.log_param(\"train-data\", \"Womens Clothing E-Commerce Reviews\")\n",
    "    \n",
    "    alpha = .5\n",
    "    mlflow.log_param(\"alpha\", alpha)\n",
    "\n",
    "    classifier = BernoulliNB(alpha = alpha)\n",
    "    classifier.fit(X_train, y_train)\n",
    "\n",
    "    y_pred = classifier.predict(X_test)\n",
    "    acc = accuracy_score(y_test, y_pred)\n",
    "    \n",
    "    mlflow.log_metric(\"accuracy\", acc)\n",
    "\n",
    "    print(\"accuracy on test data:\", acc)\n",
    "\n",
    "    model_name = \"model_bow.bin\"\n",
    "    with open(\"models/\" + model_name, 'wb') as fout:\n",
    "        pickle.dump((cv, classifier), fout)\n",
    "\n",
    "    # mlflow.sklearn.log_model(classifier, artifact_path=\"models\")\n",
    "    mlflow.log_artifact(local_path=\"models/\" + model_name, artifact_path=\"models_pickle\")\n"
   ]
  },
  {
   "cell_type": "code",
   "execution_count": 24,
   "metadata": {},
   "outputs": [
    {
     "name": "stderr",
     "output_type": "stream",
     "text": [
      "2022/08/09 18:40:32 WARNING mlflow.utils.autologging_utils: Encountered unexpected error during sklearn autologging: The following failures occurred while performing one or more logging operations: [MlflowException('Failed to perform one or more operations on the run with ID f9d52a8a84c44932baebcab976febc27. Failed operations: [MlflowException(\"Changing param values is not allowed. Params were already logged=\\'[{\\'key\\': \\'class_prior\\', \\'old_value\\': None, \\'new_value\\': \\'None\\'}, {\\'key\\': \\'fit_prior\\', \\'old_value\\': None, \\'new_value\\': \\'True\\'}]\\' for run ID=\\'f9d52a8a84c44932baebcab976febc27\\'.\")]')]\n"
     ]
    },
    {
     "name": "stdout",
     "output_type": "stream",
     "text": [
      "accuracy on test data: 0.8441156988297638\n"
     ]
    }
   ],
   "source": [
    "from sklearn.feature_extraction.text import TfidfVectorizer as TV\n",
    "from sklearn.naive_bayes import MultinomialNB\n",
    "\n",
    "y = data['Recommended IND']\n",
    "\n",
    "tv  = TV(ngram_range =(1,1),max_features = 3000)\n",
    "X_tv = tv.fit_transform(corpus).toarray()\n",
    "\n",
    "X_train, X_test, y_train, y_test = train_test_split(X_tv, y, test_size = 0.20, random_state = 0)\n",
    "\n",
    "\n",
    "mlflow.sklearn.autolog()\n",
    "\n",
    "with mlflow.start_run():\n",
    "\n",
    "    mlflow.set_tag(\"developer\", \"Isaac\")\n",
    "    mlflow.set_tag(\"algorithm\", \"MultinomialNB\")\n",
    "    mlflow.log_param(\"train-data\", \"Womens Clothing E-Commerce Reviews\")\n",
    "\n",
    "    alpha = .5\n",
    "    mlflow.log_param(\"alpha\", alpha)\n",
    "\n",
    "    classifier = MultinomialNB(alpha = alpha)\n",
    "    classifier.fit(X_train, y_train)\n",
    "\n",
    "    y_pred = classifier.predict(X_test)\n",
    "    acc = accuracy_score(y_test, y_pred)\n",
    "\n",
    "    mlflow.log_metric(\"accuracy\", acc)\n",
    "\n",
    "    print(\"accuracy on test data:\", acc)\n",
    "\n",
    "    model_name = \"model_tfidf.bin\"\n",
    "    with open(\"models/\" + model_name, 'wb') as fout:\n",
    "        pickle.dump((tv, classifier), fout)\n",
    "\n",
    "    # mlflow.sklearn.log_model(classifier, artifact_path=\"models\")\n",
    "    mlflow.log_artifact(local_path=\"models/\" + model_name, artifact_path=\"models_pickle\")\n"
   ]
  },
  {
   "cell_type": "code",
   "execution_count": 38,
   "metadata": {},
   "outputs": [
    {
     "name": "stdout",
     "output_type": "stream",
     "text": [
      "Fit model on training data\n",
      "Epoch 1/50\n",
      "566/566 [==============================] - 1s 2ms/step - loss: 0.4555 - accuracy: 0.8211 - val_loss: 0.3816 - val_accuracy: 0.8101\n",
      "Epoch 2/50\n",
      "566/566 [==============================] - 1s 1ms/step - loss: 0.2913 - accuracy: 0.8674 - val_loss: 0.2844 - val_accuracy: 0.8711\n",
      "Epoch 3/50\n",
      "566/566 [==============================] - 1s 1ms/step - loss: 0.2403 - accuracy: 0.8992 - val_loss: 0.2731 - val_accuracy: 0.8794\n",
      "Epoch 4/50\n",
      "566/566 [==============================] - 1s 1ms/step - loss: 0.2235 - accuracy: 0.9069 - val_loss: 0.2798 - val_accuracy: 0.8792\n",
      "Epoch 5/50\n",
      "566/566 [==============================] - 1s 1ms/step - loss: 0.2130 - accuracy: 0.9117 - val_loss: 0.2788 - val_accuracy: 0.8805\n"
     ]
    },
    {
     "name": "stderr",
     "output_type": "stream",
     "text": [
      "2022/08/09 19:28:42 WARNING mlflow.utils.autologging_utils: Encountered unexpected error during tensorflow autologging: 'EarlyStopping' object is not iterable\n"
     ]
    },
    {
     "name": "stdout",
     "output_type": "stream",
     "text": [
      "INFO:tensorflow:Assets written to: C:\\Users\\Isaac\\AppData\\Local\\Temp\\tmp0a3f3exe\\model\\data\\model\\assets\n",
      "Evaluate on test data\n",
      "36/36 [==============================] - 0s 833us/step - loss: 0.2788 - accuracy: 0.8805\n",
      "test loss, test acc: [0.27883851528167725, 0.8805475831031799]\n",
      "Generate predictions for 3 samples\n",
      "predictions shape: (3, 1)\n",
      "model prediction for input: I Will tell my friends for sure \n",
      " [[0.9991835]]\n"
     ]
    }
   ],
   "source": [
    "import tensorflow as tf\n",
    "from tensorflow.keras.preprocessing.text import Tokenizer\n",
    "from tensorflow.keras.preprocessing.sequence import pad_sequences\n",
    "\n",
    "y = data['Recommended IND']\n",
    "\n",
    "## tokenization and dataset creation\n",
    "tokenizer = Tokenizer(num_words = 3000)\n",
    "tokenizer.fit_on_texts(corpus)\n",
    "\n",
    "sequences = tokenizer.texts_to_sequences(corpus)\n",
    "padded = pad_sequences(sequences, padding='post')\n",
    "\n",
    "X_train, X_test, y_train, y_test = train_test_split(padded, y, test_size = 0.20, random_state = 0)\n",
    "\n",
    "# mlflow.tensorflow.autolog()\n",
    "# mlflow.keras.autolog()\n",
    "\n",
    "with mlflow.start_run():\n",
    "    ## model definition\n",
    "    embedding_dim = 32\n",
    "    model = tf.keras.Sequential([\n",
    "        tf.keras.layers.Embedding(3000, embedding_dim),\n",
    "        tf.keras.layers.GlobalAveragePooling1D(),\n",
    "        tf.keras.layers.Dense(6, activation='relu'),\n",
    "        tf.keras.layers.Dense(1, activation='sigmoid')\n",
    "    ])\n",
    "\n",
    "    ## training\n",
    "    num_epochs = 50\n",
    "    batch_size = 32\n",
    "    callback = tf.keras.callbacks.EarlyStopping(\n",
    "        monitor=\"val_loss\",\n",
    "        min_delta=0,\n",
    "        patience=2,\n",
    "        verbose=0,\n",
    "        mode=\"auto\",\n",
    "        baseline=None,\n",
    "        restore_best_weights=False,\n",
    "    )\n",
    "\n",
    "    model.compile(loss='binary_crossentropy',optimizer='adam',metrics=['accuracy'])\n",
    "\n",
    "    mlflow.set_tag(\"developer\", \"Isaac\")\n",
    "    mlflow.set_tag(\"algorithm\", \"Deep Learning\")\n",
    "    mlflow.log_param(\"train-data\", \"Womens Clothing E-Commerce Reviews\")\n",
    "    mlflow.log_param(\"embedding-dim\", embedding_dim)\n",
    "\n",
    "    print(\"Fit model on training data\")\n",
    "    history = model.fit(\n",
    "        X_train,\n",
    "        y_train,\n",
    "        batch_size=batch_size,\n",
    "        epochs=num_epochs,\n",
    "        callbacks=callback,\n",
    "        # We pass some validation for\n",
    "        # monitoring validation loss and metrics\n",
    "        # at the end of each epoch\n",
    "        validation_data=(X_test, y_test),\n",
    "    )\n",
    "\n",
    "    ## save model and tokenizer\n",
    "    # model.save('models/model_dl.h5')\n",
    "    mlflow.keras.log_model(model, 'models/model_dl')\n",
    "\n",
    "    with open('models/tf_tokenizer.pickle', 'wb') as handle:\n",
    "        pickle.dump(tokenizer, handle, protocol=pickle.HIGHEST_PROTOCOL)\n",
    "\n",
    "    # Evaluate the model on the test data using `evaluate`\n",
    "    print(\"Evaluate on test data\")\n",
    "    results = model.evaluate(X_test, y_test, batch_size=128)\n",
    "    print(\"test loss, test acc:\", results)\n",
    "    mlflow.log_metric(\"loss\", results[0])\n",
    "    mlflow.log_metric(\"accuracy\", results[1])\n",
    "\n",
    "    # mlflow.log_artifact(local_path=\"models/model_dl.h5\", artifact_path=\"models_pickle\")\n",
    "    mlflow.log_artifact(local_path=\"models/tf_tokenizer.pickle\", artifact_path=\"tokenizer_pickle\")\n",
    "\n",
    "\n",
    "    # Generate predictions (probabilities -- the output of the last layer)\n",
    "    # on new data using `predict`\n",
    "    print(\"Generate predictions for 3 samples\")\n",
    "    predictions = model.predict(X_test[:3])\n",
    "    print(\"predictions shape:\", predictions.shape)\n",
    "\n",
    "\n",
    "    sample_string = \"I Will tell my friends for sure\"\n",
    "    sample = tokenizer.texts_to_sequences(sample_string)\n",
    "    padded_sample = pad_sequences(sample, padding='post').T\n",
    "    sample_predict = model.predict(padded_sample)\n",
    "    print(f\"model prediction for input: {sample_string} \\n {sample_predict}\")\n"
   ]
  },
  {
   "cell_type": "code",
   "execution_count": 41,
   "metadata": {},
   "outputs": [
    {
     "data": {
      "text/plain": [
       "<tensorflow.python.keras.engine.sequential.Sequential at 0x24975a0c0d0>"
      ]
     },
     "execution_count": 41,
     "metadata": {},
     "output_type": "execute_result"
    }
   ],
   "source": [
    "mlflow.keras.load_model('./mlruns/2/b7c1ae8139b94ad9aa5b566001fb4255/artifacts/models/model_dl')"
   ]
  },
  {
   "cell_type": "code",
   "execution_count": 9,
   "metadata": {},
   "outputs": [
    {
     "data": {
      "text/plain": [
       "<tensorflow.python.keras.engine.sequential.Sequential at 0x20dee6e98b0>"
      ]
     },
     "execution_count": 9,
     "metadata": {},
     "output_type": "execute_result"
    }
   ],
   "source": [
    "m = mlflow.keras.load_model(\"models:/customer-sentiment-analysis/3\", dst_path=None)\n",
    "m"
   ]
  },
  {
   "cell_type": "code",
   "execution_count": 10,
   "metadata": {},
   "outputs": [
    {
     "data": {
      "text/plain": [
       "'c:\\\\Users\\\\Isaac\\\\codes\\\\personal\\\\mlops-zoomcamp-final-project\\\\training_job\\\\models_pickle'"
      ]
     },
     "execution_count": 10,
     "metadata": {},
     "output_type": "execute_result"
    }
   ],
   "source": [
    "from mlflow.tracking import MlflowClient\n",
    "client = MlflowClient(tracking_uri=\"sqlite:///mlflow.db\")\n",
    "client.download_artifacts(run_id=\"d3ebd0c0b590443e824cde73fe041a6e\", path='models_pickle', dst_path='.')"
   ]
  },
  {
   "cell_type": "code",
   "execution_count": 19,
   "metadata": {},
   "outputs": [
    {
     "name": "stdout",
     "output_type": "stream",
     "text": [
      "{   'creation_timestamp': 1660141156340,\n",
      "    'current_stage': 'Production',\n",
      "    'description': 'moved to production on the 8th of August 2020 by Isaac.',\n",
      "    'last_updated_timestamp': 1660143559490,\n",
      "    'name': 'customer-sentiment-analysis',\n",
      "    'run_id': 'd3ebd0c0b590443e824cde73fe041a6e',\n",
      "    'run_link': '',\n",
      "    'source': './mlruns/2/d3ebd0c0b590443e824cde73fe041a6e/artifacts/models/model_dl.h5',\n",
      "    'status': 'READY',\n",
      "    'status_message': None,\n",
      "    'tags': {},\n",
      "    'user_id': None,\n",
      "    'version': 3}\n",
      "'d3ebd0c0b590443e824cde73fe041a6e'\n"
     ]
    }
   ],
   "source": [
    "from mlflow.tracking import MlflowClient\n",
    "from pprint import pprint\n",
    "\n",
    "client = MlflowClient(tracking_uri=\"sqlite:///mlflow.db\")\n",
    "# for rm in client.list_registered_models():\n",
    "#     pprint(dict(rm), indent=4)\n",
    "\n",
    "for mv in client.search_model_versions(\"name='customer-sentiment-analysis'\"):\n",
    "    if dict(mv)['current_stage'] == 'Production':\n",
    "        pprint(dict(mv), indent=4)\n",
    "        pprint(dict(mv)['run_id'])\n",
    "    "
   ]
  },
  {
   "cell_type": "code",
   "execution_count": null,
   "metadata": {},
   "outputs": [],
   "source": []
  }
 ],
 "metadata": {
  "kernelspec": {
   "display_name": "Python 3.8.3 64-bit",
   "language": "python",
   "name": "python3"
  },
  "language_info": {
   "codemirror_mode": {
    "name": "ipython",
    "version": 3
   },
   "file_extension": ".py",
   "mimetype": "text/x-python",
   "name": "python",
   "nbconvert_exporter": "python",
   "pygments_lexer": "ipython3",
   "version": "3.8.3"
  },
  "orig_nbformat": 4,
  "vscode": {
   "interpreter": {
    "hash": "a343ca67dd5fa636c65cb0b24a9c88a77288f732bd557452f6e9dc16380345be"
   }
  }
 },
 "nbformat": 4,
 "nbformat_minor": 2
}
